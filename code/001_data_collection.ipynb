{
 "cells": [
  {
   "cell_type": "code",
   "execution_count": 1,
   "metadata": {},
   "outputs": [],
   "source": [
    "import pandas as pd\n",
    "import pickle\n",
    "pd.set_option('display.max_columns', None)"
   ]
  },
  {
   "cell_type": "code",
   "execution_count": 157,
   "metadata": {},
   "outputs": [],
   "source": [
    "# read in data from 2010-2019\n",
    "df_2019 = pd.read_csv(\"https://data.lacity.org/api/views/63jg-8b9z/rows.csv\")"
   ]
  },
  {
   "cell_type": "code",
   "execution_count": 142,
   "metadata": {},
   "outputs": [],
   "source": [
    "# read in data from 2020\n",
    "df_2020 = pd.read_csv(\"https://data.lacity.org/api/views/2nrs-mtv8/rows.csv\")"
   ]
  },
  {
   "cell_type": "code",
   "execution_count": 158,
   "metadata": {},
   "outputs": [
    {
     "data": {
      "text/plain": [
       "array([ True,  True,  True,  True, False,  True,  True,  True,  True,\n",
       "        True,  True,  True,  True,  True,  True,  True,  True,  True,\n",
       "        True,  True,  True,  True,  True,  True,  True,  True,  True,\n",
       "        True])"
      ]
     },
     "execution_count": 158,
     "metadata": {},
     "output_type": "execute_result"
    }
   ],
   "source": [
    "# check if column names are the same\n",
    "df_2020.columns == df_2019.columns"
   ]
  },
  {
   "cell_type": "code",
   "execution_count": 159,
   "metadata": {},
   "outputs": [],
   "source": [
    "# remove trailing space in 'AREA' so the column names match between the two dataframes\n",
    "df_2019.rename(columns={\"AREA \": \"AREA\"}, inplace = True)"
   ]
  },
  {
   "cell_type": "code",
   "execution_count": 204,
   "metadata": {},
   "outputs": [],
   "source": [
    "# combine data into one dataframe\n",
    "df = pd.concat([df_2019, df_2020])"
   ]
  },
  {
   "cell_type": "code",
   "execution_count": 205,
   "metadata": {},
   "outputs": [],
   "source": [
    "# Map the lowering function to all column names\n",
    "df.columns = map(str.lower, df.columns)"
   ]
  },
  {
   "cell_type": "code",
   "execution_count": 206,
   "metadata": {},
   "outputs": [],
   "source": [
    "# Remove spaces from column names\n",
    "df.columns = df.columns.str.replace(\" \", \"_\")"
   ]
  },
  {
   "cell_type": "code",
   "execution_count": 207,
   "metadata": {},
   "outputs": [],
   "source": [
    "## Convert date columns to date objects\n",
    "df[\"date_rptd\"] = pd.to_datetime(df[\"date_rptd\"])\n",
    "df[\"date_occ\"]= pd.to_datetime(df[\"date_occ\"])"
   ]
  },
  {
   "cell_type": "code",
   "execution_count": 208,
   "metadata": {},
   "outputs": [
    {
     "data": {
      "text/plain": [
       "(2210104, 28)"
      ]
     },
     "execution_count": 208,
     "metadata": {},
     "output_type": "execute_result"
    }
   ],
   "source": [
    "df.shape"
   ]
  },
  {
   "cell_type": "markdown",
   "metadata": {},
   "source": [
    "## How many crimes were reported over the past 5 years?"
   ]
  },
  {
   "cell_type": "code",
   "execution_count": 229,
   "metadata": {},
   "outputs": [
    {
     "data": {
      "text/plain": [
       "1118305"
      ]
     },
     "execution_count": 229,
     "metadata": {},
     "output_type": "execute_result"
    }
   ],
   "source": [
    "# Check how many crimes were reported over the past 5 years\n",
    "# Calculate current date and offset by 5 years\n",
    "(df[\"date_rptd\"] > (pd.datetime.now()- pd.DateOffset(years=5))).sum()"
   ]
  },
  {
   "cell_type": "markdown",
   "metadata": {},
   "source": [
    "### A: 111,8305 crimes were reported in the past 5 years"
   ]
  },
  {
   "cell_type": "markdown",
   "metadata": {},
   "source": [
    "## List the top five reported crimes for each year for the past 5 years."
   ]
  },
  {
   "cell_type": "code",
   "execution_count": 230,
   "metadata": {},
   "outputs": [],
   "source": [
    "# Select the last 5 years as a dataframe\n",
    "df_5 = df[df[\"date_rptd\"] > (pd.datetime.now()- pd.DateOffset(years=5))]"
   ]
  },
  {
   "cell_type": "code",
   "execution_count": 240,
   "metadata": {},
   "outputs": [
    {
     "data": {
      "text/plain": [
       "2020"
      ]
     },
     "execution_count": 240,
     "metadata": {},
     "output_type": "execute_result"
    }
   ],
   "source": [
    "df_5[\"date_rptd\"][0].year"
   ]
  },
  {
   "cell_type": "code",
   "execution_count": 245,
   "metadata": {},
   "outputs": [
    {
     "data": {
      "text/plain": [
       "2015"
      ]
     },
     "execution_count": 245,
     "metadata": {},
     "output_type": "execute_result"
    }
   ],
   "source": [
    "df_5.iloc[0][\"date_rptd\"].year"
   ]
  },
  {
   "cell_type": "code",
   "execution_count": 246,
   "metadata": {},
   "outputs": [
    {
     "name": "stderr",
     "output_type": "stream",
     "text": [
      "/opt/anaconda3/lib/python3.7/site-packages/ipykernel_launcher.py:1: SettingWithCopyWarning: \n",
      "A value is trying to be set on a copy of a slice from a DataFrame.\n",
      "Try using .loc[row_indexer,col_indexer] = value instead\n",
      "\n",
      "See the caveats in the documentation: http://pandas.pydata.org/pandas-docs/stable/user_guide/indexing.html#returning-a-view-versus-a-copy\n",
      "  \"\"\"Entry point for launching an IPython kernel.\n"
     ]
    }
   ],
   "source": [
    "df_5['year'] = pd.DatetimeIndex(df_5['date_rptd']).year"
   ]
  },
  {
   "cell_type": "code",
   "execution_count": 248,
   "metadata": {},
   "outputs": [
    {
     "data": {
      "text/html": [
       "<div>\n",
       "<style scoped>\n",
       "    .dataframe tbody tr th:only-of-type {\n",
       "        vertical-align: middle;\n",
       "    }\n",
       "\n",
       "    .dataframe tbody tr th {\n",
       "        vertical-align: top;\n",
       "    }\n",
       "\n",
       "    .dataframe thead th {\n",
       "        text-align: right;\n",
       "    }\n",
       "</style>\n",
       "<table border=\"1\" class=\"dataframe\">\n",
       "  <thead>\n",
       "    <tr style=\"text-align: right;\">\n",
       "      <th></th>\n",
       "      <th>dr_no</th>\n",
       "      <th>date_rptd</th>\n",
       "      <th>date_occ</th>\n",
       "      <th>time_occ</th>\n",
       "      <th>area</th>\n",
       "      <th>area_name</th>\n",
       "      <th>rpt_dist_no</th>\n",
       "      <th>part_1-2</th>\n",
       "      <th>crm_cd</th>\n",
       "      <th>crm_cd_desc</th>\n",
       "      <th>mocodes</th>\n",
       "      <th>vict_age</th>\n",
       "      <th>vict_sex</th>\n",
       "      <th>vict_descent</th>\n",
       "      <th>premis_cd</th>\n",
       "      <th>premis_desc</th>\n",
       "      <th>weapon_used_cd</th>\n",
       "      <th>weapon_desc</th>\n",
       "      <th>status</th>\n",
       "      <th>status_desc</th>\n",
       "      <th>crm_cd_1</th>\n",
       "      <th>crm_cd_2</th>\n",
       "      <th>crm_cd_3</th>\n",
       "      <th>crm_cd_4</th>\n",
       "      <th>location</th>\n",
       "      <th>cross_street</th>\n",
       "      <th>lat</th>\n",
       "      <th>lon</th>\n",
       "      <th>year</th>\n",
       "    </tr>\n",
       "  </thead>\n",
       "  <tbody>\n",
       "    <tr>\n",
       "      <th>207941</th>\n",
       "      <td>150116398</td>\n",
       "      <td>2015-07-09</td>\n",
       "      <td>2010-07-09</td>\n",
       "      <td>2125</td>\n",
       "      <td>1</td>\n",
       "      <td>Central</td>\n",
       "      <td>111</td>\n",
       "      <td>2</td>\n",
       "      <td>624</td>\n",
       "      <td>BATTERY - SIMPLE ASSAULT</td>\n",
       "      <td>0416 1218 2004</td>\n",
       "      <td>47</td>\n",
       "      <td>M</td>\n",
       "      <td>H</td>\n",
       "      <td>102.0</td>\n",
       "      <td>SIDEWALK</td>\n",
       "      <td>400.0</td>\n",
       "      <td>STRONG-ARM (HANDS, FIST, FEET OR BODILY FORCE)</td>\n",
       "      <td>AO</td>\n",
       "      <td>Adult Other</td>\n",
       "      <td>624.0</td>\n",
       "      <td>NaN</td>\n",
       "      <td>NaN</td>\n",
       "      <td>NaN</td>\n",
       "      <td>ALAMEDA</td>\n",
       "      <td>ALHAMBRA</td>\n",
       "      <td>34.0601</td>\n",
       "      <td>-118.2366</td>\n",
       "      <td>2015</td>\n",
       "    </tr>\n",
       "    <tr>\n",
       "      <th>207952</th>\n",
       "      <td>150214866</td>\n",
       "      <td>2015-07-21</td>\n",
       "      <td>2010-03-01</td>\n",
       "      <td>1200</td>\n",
       "      <td>2</td>\n",
       "      <td>Rampart</td>\n",
       "      <td>238</td>\n",
       "      <td>1</td>\n",
       "      <td>341</td>\n",
       "      <td>THEFT-GRAND ($950.01 &amp; OVER)EXCPT,GUNS,FOWL,LI...</td>\n",
       "      <td>0344 0352</td>\n",
       "      <td>55</td>\n",
       "      <td>F</td>\n",
       "      <td>H</td>\n",
       "      <td>501.0</td>\n",
       "      <td>SINGLE FAMILY DWELLING</td>\n",
       "      <td>NaN</td>\n",
       "      <td>NaN</td>\n",
       "      <td>IC</td>\n",
       "      <td>Invest Cont</td>\n",
       "      <td>341.0</td>\n",
       "      <td>NaN</td>\n",
       "      <td>NaN</td>\n",
       "      <td>NaN</td>\n",
       "      <td>1400 W  TEMPLE                       ST</td>\n",
       "      <td>NaN</td>\n",
       "      <td>34.0673</td>\n",
       "      <td>-118.2566</td>\n",
       "      <td>2015</td>\n",
       "    </tr>\n",
       "    <tr>\n",
       "      <th>207953</th>\n",
       "      <td>150215013</td>\n",
       "      <td>2015-07-24</td>\n",
       "      <td>2010-03-16</td>\n",
       "      <td>800</td>\n",
       "      <td>2</td>\n",
       "      <td>Rampart</td>\n",
       "      <td>233</td>\n",
       "      <td>2</td>\n",
       "      <td>354</td>\n",
       "      <td>THEFT OF IDENTITY</td>\n",
       "      <td>0100</td>\n",
       "      <td>34</td>\n",
       "      <td>F</td>\n",
       "      <td>K</td>\n",
       "      <td>502.0</td>\n",
       "      <td>MULTI-UNIT DWELLING (APARTMENT, DUPLEX, ETC)</td>\n",
       "      <td>NaN</td>\n",
       "      <td>NaN</td>\n",
       "      <td>IC</td>\n",
       "      <td>Invest Cont</td>\n",
       "      <td>354.0</td>\n",
       "      <td>NaN</td>\n",
       "      <td>NaN</td>\n",
       "      <td>NaN</td>\n",
       "      <td>200 S  LAFAYETTE PARK               PL</td>\n",
       "      <td>NaN</td>\n",
       "      <td>34.0692</td>\n",
       "      <td>-118.2792</td>\n",
       "      <td>2015</td>\n",
       "    </tr>\n",
       "    <tr>\n",
       "      <th>207954</th>\n",
       "      <td>150218856</td>\n",
       "      <td>2015-10-02</td>\n",
       "      <td>2010-04-01</td>\n",
       "      <td>1000</td>\n",
       "      <td>2</td>\n",
       "      <td>Rampart</td>\n",
       "      <td>248</td>\n",
       "      <td>2</td>\n",
       "      <td>354</td>\n",
       "      <td>THEFT OF IDENTITY</td>\n",
       "      <td>0100 1822</td>\n",
       "      <td>52</td>\n",
       "      <td>M</td>\n",
       "      <td>A</td>\n",
       "      <td>502.0</td>\n",
       "      <td>MULTI-UNIT DWELLING (APARTMENT, DUPLEX, ETC)</td>\n",
       "      <td>NaN</td>\n",
       "      <td>NaN</td>\n",
       "      <td>IC</td>\n",
       "      <td>Invest Cont</td>\n",
       "      <td>354.0</td>\n",
       "      <td>NaN</td>\n",
       "      <td>NaN</td>\n",
       "      <td>NaN</td>\n",
       "      <td>300    COLUMBIA                     AV</td>\n",
       "      <td>NaN</td>\n",
       "      <td>34.0594</td>\n",
       "      <td>-118.2644</td>\n",
       "      <td>2015</td>\n",
       "    </tr>\n",
       "    <tr>\n",
       "      <th>207955</th>\n",
       "      <td>150223156</td>\n",
       "      <td>2015-12-28</td>\n",
       "      <td>2010-01-01</td>\n",
       "      <td>900</td>\n",
       "      <td>2</td>\n",
       "      <td>Rampart</td>\n",
       "      <td>212</td>\n",
       "      <td>2</td>\n",
       "      <td>354</td>\n",
       "      <td>THEFT OF IDENTITY</td>\n",
       "      <td>0928 1822</td>\n",
       "      <td>20</td>\n",
       "      <td>M</td>\n",
       "      <td>H</td>\n",
       "      <td>502.0</td>\n",
       "      <td>MULTI-UNIT DWELLING (APARTMENT, DUPLEX, ETC)</td>\n",
       "      <td>NaN</td>\n",
       "      <td>NaN</td>\n",
       "      <td>IC</td>\n",
       "      <td>Invest Cont</td>\n",
       "      <td>354.0</td>\n",
       "      <td>NaN</td>\n",
       "      <td>NaN</td>\n",
       "      <td>NaN</td>\n",
       "      <td>600 N  WESTMORELAND                 AV</td>\n",
       "      <td>NaN</td>\n",
       "      <td>34.0818</td>\n",
       "      <td>-118.2880</td>\n",
       "      <td>2015</td>\n",
       "    </tr>\n",
       "  </tbody>\n",
       "</table>\n",
       "</div>"
      ],
      "text/plain": [
       "            dr_no  date_rptd   date_occ  time_occ  area area_name  \\\n",
       "207941  150116398 2015-07-09 2010-07-09      2125     1   Central   \n",
       "207952  150214866 2015-07-21 2010-03-01      1200     2   Rampart   \n",
       "207953  150215013 2015-07-24 2010-03-16       800     2   Rampart   \n",
       "207954  150218856 2015-10-02 2010-04-01      1000     2   Rampart   \n",
       "207955  150223156 2015-12-28 2010-01-01       900     2   Rampart   \n",
       "\n",
       "        rpt_dist_no  part_1-2  crm_cd  \\\n",
       "207941          111         2     624   \n",
       "207952          238         1     341   \n",
       "207953          233         2     354   \n",
       "207954          248         2     354   \n",
       "207955          212         2     354   \n",
       "\n",
       "                                              crm_cd_desc         mocodes  \\\n",
       "207941                           BATTERY - SIMPLE ASSAULT  0416 1218 2004   \n",
       "207952  THEFT-GRAND ($950.01 & OVER)EXCPT,GUNS,FOWL,LI...       0344 0352   \n",
       "207953                                  THEFT OF IDENTITY            0100   \n",
       "207954                                  THEFT OF IDENTITY       0100 1822   \n",
       "207955                                  THEFT OF IDENTITY       0928 1822   \n",
       "\n",
       "        vict_age vict_sex vict_descent  premis_cd  \\\n",
       "207941        47        M            H      102.0   \n",
       "207952        55        F            H      501.0   \n",
       "207953        34        F            K      502.0   \n",
       "207954        52        M            A      502.0   \n",
       "207955        20        M            H      502.0   \n",
       "\n",
       "                                         premis_desc  weapon_used_cd  \\\n",
       "207941                                      SIDEWALK           400.0   \n",
       "207952                        SINGLE FAMILY DWELLING             NaN   \n",
       "207953  MULTI-UNIT DWELLING (APARTMENT, DUPLEX, ETC)             NaN   \n",
       "207954  MULTI-UNIT DWELLING (APARTMENT, DUPLEX, ETC)             NaN   \n",
       "207955  MULTI-UNIT DWELLING (APARTMENT, DUPLEX, ETC)             NaN   \n",
       "\n",
       "                                           weapon_desc status  status_desc  \\\n",
       "207941  STRONG-ARM (HANDS, FIST, FEET OR BODILY FORCE)     AO  Adult Other   \n",
       "207952                                             NaN     IC  Invest Cont   \n",
       "207953                                             NaN     IC  Invest Cont   \n",
       "207954                                             NaN     IC  Invest Cont   \n",
       "207955                                             NaN     IC  Invest Cont   \n",
       "\n",
       "        crm_cd_1  crm_cd_2  crm_cd_3  crm_cd_4  \\\n",
       "207941     624.0       NaN       NaN       NaN   \n",
       "207952     341.0       NaN       NaN       NaN   \n",
       "207953     354.0       NaN       NaN       NaN   \n",
       "207954     354.0       NaN       NaN       NaN   \n",
       "207955     354.0       NaN       NaN       NaN   \n",
       "\n",
       "                                       location cross_street      lat  \\\n",
       "207941                                  ALAMEDA     ALHAMBRA  34.0601   \n",
       "207952  1400 W  TEMPLE                       ST          NaN  34.0673   \n",
       "207953   200 S  LAFAYETTE PARK               PL          NaN  34.0692   \n",
       "207954   300    COLUMBIA                     AV          NaN  34.0594   \n",
       "207955   600 N  WESTMORELAND                 AV          NaN  34.0818   \n",
       "\n",
       "             lon  year  \n",
       "207941 -118.2366  2015  \n",
       "207952 -118.2566  2015  \n",
       "207953 -118.2792  2015  \n",
       "207954 -118.2644  2015  \n",
       "207955 -118.2880  2015  "
      ]
     },
     "execution_count": 248,
     "metadata": {},
     "output_type": "execute_result"
    }
   ],
   "source": [
    "df_5.head()"
   ]
  },
  {
   "cell_type": "code",
   "execution_count": 262,
   "metadata": {},
   "outputs": [
    {
     "data": {
      "text/plain": [
       "year\n",
       "2015    108903\n",
       "2016    226101\n",
       "2017    231787\n",
       "2018    230683\n",
       "2019    220565\n",
       "2020    100259\n",
       "Name: crm_cd_1, dtype: int64"
      ]
     },
     "execution_count": 262,
     "metadata": {},
     "output_type": "execute_result"
    }
   ],
   "source": [
    "df_5.groupby(\"year\")[\"crm_cd_1\"].agg(pd.Series.mode)"
   ]
  },
  {
   "cell_type": "code",
   "execution_count": 267,
   "metadata": {},
   "outputs": [
    {
     "data": {
      "text/plain": [
       "[(2015, 624.0), (2015, 510.0), (2015, 440.0), (2015, 330.0), (2015, 354.0)]"
      ]
     },
     "execution_count": 267,
     "metadata": {},
     "output_type": "execute_result"
    }
   ],
   "source": [
    "df_5.groupby(\"year\")[\"crm_cd_1\"].value_counts(ascending = False)[:5].index.tolist()"
   ]
  },
  {
   "cell_type": "markdown",
   "metadata": {},
   "source": [
    "## Pickle for later use"
   ]
  },
  {
   "cell_type": "code",
   "execution_count": 191,
   "metadata": {},
   "outputs": [],
   "source": [
    "# save data for later use\n",
    "pickle.dump(df, open(\"./data/crime_data.pkl\", \"wb\"))"
   ]
  },
  {
   "cell_type": "code",
   "execution_count": 268,
   "metadata": {},
   "outputs": [],
   "source": [
    "# save data for later use\n",
    "pickle.dump(df_5, open(\"./data/crime_data_5.pkl\", \"wb\"))"
   ]
  },
  {
   "cell_type": "code",
   "execution_count": null,
   "metadata": {},
   "outputs": [],
   "source": []
  }
 ],
 "metadata": {
  "kernelspec": {
   "display_name": "Python 3",
   "language": "python",
   "name": "python3"
  },
  "language_info": {
   "codemirror_mode": {
    "name": "ipython",
    "version": 3
   },
   "file_extension": ".py",
   "mimetype": "text/x-python",
   "name": "python",
   "nbconvert_exporter": "python",
   "pygments_lexer": "ipython3",
   "version": "3.7.4"
  }
 },
 "nbformat": 4,
 "nbformat_minor": 2
}
