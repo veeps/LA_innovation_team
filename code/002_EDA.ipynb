{
 "cells": [
  {
   "cell_type": "markdown",
   "metadata": {},
   "source": [
    "# Exploratory Data Analysis - Crime Data Los Angeles\n",
    "\n",
    "This notebook is used to explore the questions for the Data Scientist Exercise in July 2020.\n",
    "\n",
    "- How many crimes were reported over the past 5 years?\n",
    "- List the top five reported crimes for each year for the past 5 years.\n",
    "- What are the most common MO codes? Have these changed over the past 5 years?\n",
    "- How else has reported crime changed over time in the City?\n",
    "- Based on your analysis, please share any changes to services, programs, or policies that the City should consider."
   ]
  },
  {
   "cell_type": "markdown",
   "metadata": {},
   "source": [
    "##  Load libraries"
   ]
  },
  {
   "cell_type": "code",
   "execution_count": 10,
   "metadata": {},
   "outputs": [],
   "source": [
    "# Import libraries\n",
    "import os, sys, subprocess\n",
    "import json\n",
    "import pandas as pd\n",
    "import numpy as np\n",
    "from langdetect import detect\n",
    "import pickle\n",
    "\n",
    "pd.set_option('display.max_colwidth', -1)\n",
    "\n",
    "pd.set_option('display.max_rows', 1000)\n",
    "#pd.set_option('display.max_columns', 500)"
   ]
  },
  {
   "cell_type": "code",
   "execution_count": 14,
   "metadata": {},
   "outputs": [],
   "source": [
    "# load project config\n",
    "terminal_call = ! git rev-parse --show-toplevel\n",
    "repo_path=terminal_call[0]\n",
    "project_config_path = os.path.join(repo_path,'project_config.json')\n",
    "\n",
    "with open(project_config_path,'r') as fp: \n",
    "    project_config = json.load(fp)"
   ]
  },
  {
   "cell_type": "code",
   "execution_count": 25,
   "metadata": {},
   "outputs": [],
   "source": [
    "# import custom module to look at trends\n",
    "module_path = os.path.join(repo_path,project_config['project_module_relative_path'])\n",
    "sys.path.append(module_path)\n",
    "\n",
    "import trends\n",
    "from trends import get_top_trends as gt\n",
    "\n",
    "from importlib import reload"
   ]
  },
  {
   "cell_type": "markdown",
   "metadata": {},
   "source": [
    "# Load in data"
   ]
  },
  {
   "cell_type": "code",
   "execution_count": 20,
   "metadata": {},
   "outputs": [],
   "source": [
    "# load in data that was collected\n",
    "df = pickle.load(open(\"../data/crime_data.pkl\", \"rb\"))"
   ]
  },
  {
   "cell_type": "markdown",
   "metadata": {},
   "source": [
    "## How many crimes were reported over the past 5 years?"
   ]
  },
  {
   "cell_type": "code",
   "execution_count": 21,
   "metadata": {},
   "outputs": [
    {
     "data": {
      "text/plain": [
       "1117864"
      ]
     },
     "execution_count": 21,
     "metadata": {},
     "output_type": "execute_result"
    }
   ],
   "source": [
    "# Check how many crimes were reported over the past 5 years\n",
    "# Calculate current date and offset by 5 years\n",
    "(df[\"date_rptd\"] > (pd.datetime.now()- pd.DateOffset(years=5))).sum()"
   ]
  },
  {
   "cell_type": "markdown",
   "metadata": {},
   "source": [
    "### A: 1,117,864 crimes were reported in the past 5 years"
   ]
  },
  {
   "cell_type": "markdown",
   "metadata": {},
   "source": [
    "## List the top five reported crimes for each year for the past 5 years."
   ]
  },
  {
   "cell_type": "code",
   "execution_count": 31,
   "metadata": {},
   "outputs": [],
   "source": [
    "# Select the last 5 years as a dataframe\n",
    "df_5 = df[df[\"date_rptd\"] > (pd.datetime.now()- pd.DateOffset(years=5))]"
   ]
  },
  {
   "cell_type": "code",
   "execution_count": 35,
   "metadata": {},
   "outputs": [
    {
     "data": {
      "text/plain": [
       "year  crm_cd_1\n",
       "2015  624.0       8866 \n",
       "      510.0       8573 \n",
       "      440.0       7863 \n",
       "      330.0       7319 \n",
       "      354.0       7300 \n",
       "2016  510.0       18348\n",
       "      624.0       17983\n",
       "      330.0       16784\n",
       "      440.0       14810\n",
       "      310.0       14558\n",
       "2017  624.0       19134\n",
       "      510.0       18748\n",
       "      330.0       18097\n",
       "      310.0       15282\n",
       "      440.0       14773\n",
       "2018  624.0       19567\n",
       "      330.0       18080\n",
       "      510.0       17124\n",
       "      440.0       15414\n",
       "      310.0       14814\n",
       "2019  624.0       19124\n",
       "      330.0       16755\n",
       "      440.0       15453\n",
       "      510.0       15425\n",
       "      740.0       12889\n",
       "2020  510.0       9763 \n",
       "      624.0       8233 \n",
       "      330.0       6895 \n",
       "      310.0       6694 \n",
       "      740.0       6379 \n",
       "Name: crm_cd_1, dtype: int64"
      ]
     },
     "execution_count": 35,
     "metadata": {},
     "output_type": "execute_result"
    }
   ],
   "source": [
    "# Find the top 5 reported crimes for each year\n",
    "# Crime is listed in the data under 'crm_cd_1'\n",
    "# Custom function 'top_trends' groups by column and selects the top 'n' \n",
    "gt.top_trends(df_5, column='year', variable='crm_cd_1', n=5)"
   ]
  },
  {
   "cell_type": "markdown",
   "metadata": {},
   "source": [
    "## What are the most common MO codes? Have these changed over the past 5 years?"
   ]
  },
  {
   "cell_type": "code",
   "execution_count": 36,
   "metadata": {},
   "outputs": [
    {
     "data": {
      "text/plain": [
       "0344         93842\n",
       "0329         44407\n",
       "1501         18472\n",
       "0325         12737\n",
       "0416         12317\n",
       "0329 1300    8302 \n",
       "1822         8234 \n",
       "0344 1300    6090 \n",
       "0344 1606    5898 \n",
       "0329 1307    4808 \n",
       "Name: mocodes, dtype: int64"
      ]
     },
     "execution_count": 36,
     "metadata": {},
     "output_type": "execute_result"
    }
   ],
   "source": [
    "# Find the top 10 most common MO codes across all the years (2010-2020)\n",
    "df_5[\"mocodes\"].value_counts(ascending = False).head(10)"
   ]
  },
  {
   "cell_type": "code",
   "execution_count": 37,
   "metadata": {
    "scrolled": true
   },
   "outputs": [
    {
     "data": {
      "text/plain": [
       "year  mocodes  \n",
       "2015  0344         12619\n",
       "      0329         4784 \n",
       "      1501         2013 \n",
       "      0325         1632 \n",
       "      0416         1573 \n",
       "2016  0344         22719\n",
       "      0329         9713 \n",
       "      1501         4215 \n",
       "      0325         3037 \n",
       "      0416         2939 \n",
       "2017  0344         20205\n",
       "      0329         9811 \n",
       "      1501         4436 \n",
       "      0416         2938 \n",
       "      0325         2737 \n",
       "2018  0344         17485\n",
       "      0329         9032 \n",
       "      1501         3705 \n",
       "      0416         2375 \n",
       "      0325         2354 \n",
       "2019  0344         15849\n",
       "      0329         8156 \n",
       "      1501         2984 \n",
       "      0325         2327 \n",
       "      0416         1977 \n",
       "2020  0344         4965 \n",
       "      0329         2911 \n",
       "      1501         1119 \n",
       "      0344 1300    706  \n",
       "      0329 1300    698  \n",
       "Name: mocodes, dtype: int64"
      ]
     },
     "execution_count": 37,
     "metadata": {},
     "output_type": "execute_result"
    }
   ],
   "source": [
    "# Find the top 10 MO codes for each year\n",
    "# MO code is listed in the data under 'mocodes'\n",
    "# Custom function 'top_trends' groups by column and selects the top 'n' \n",
    "gt.top_trends(df_5, column='year', variable='mocodes', n=5)"
   ]
  }
 ],
 "metadata": {
  "kernelspec": {
   "display_name": "Python 3",
   "language": "python",
   "name": "python3"
  },
  "language_info": {
   "codemirror_mode": {
    "name": "ipython",
    "version": 3
   },
   "file_extension": ".py",
   "mimetype": "text/x-python",
   "name": "python",
   "nbconvert_exporter": "python",
   "pygments_lexer": "ipython3",
   "version": "3.7.4"
  }
 },
 "nbformat": 4,
 "nbformat_minor": 2
}
