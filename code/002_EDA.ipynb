{
 "cells": [
  {
   "cell_type": "markdown",
   "metadata": {},
   "source": [
    "# Exploratory Data Analysis - Crime Data Los Angeles\n",
    "\n",
    "This notebook is used to explore the questions for the Data Scientist Exercise in July 2020.\n",
    "\n",
    "- How many crimes were reported over the past 5 years?\n",
    "- List the top five reported crimes for each year for the past 5 years.\n",
    "- What are the most common MO codes? Have these changed over the past 5 years?\n",
    "- How else has reported crime changed over time in the City?\n",
    "- Based on your analysis, please share any changes to services, programs, or policies that the City should consider."
   ]
  },
  {
   "cell_type": "markdown",
   "metadata": {},
   "source": [
    "##  Load libraries"
   ]
  },
  {
   "cell_type": "code",
   "execution_count": 10,
   "metadata": {},
   "outputs": [],
   "source": [
    "# Import libraries\n",
    "import os, sys, subprocess\n",
    "import json\n",
    "import pandas as pd\n",
    "import numpy as np\n",
    "from langdetect import detect\n",
    "import pickle\n",
    "\n",
    "pd.set_option('display.max_colwidth', -1)\n",
    "\n",
    "pd.set_option('display.max_rows', 1000)\n",
    "#pd.set_option('display.max_columns', 500)"
   ]
  },
  {
   "cell_type": "code",
   "execution_count": 14,
   "metadata": {},
   "outputs": [],
   "source": [
    "# load project config\n",
    "terminal_call = ! git rev-parse --show-toplevel\n",
    "repo_path=terminal_call[0]\n",
    "project_config_path = os.path.join(repo_path,'project_config.json')\n",
    "\n",
    "with open(project_config_path,'r') as fp: \n",
    "    project_config = json.load(fp)"
   ]
  },
  {
   "cell_type": "code",
   "execution_count": 12,
   "metadata": {},
   "outputs": [],
   "source": [
    "# import custom module to look at trends\n",
    "module_path = os.path.join(repo_path,project_config['project_module_relative_path'])\n",
    "sys.path.append(module_path)\n",
    "\n",
    "import trends\n",
    "from trends import get_top_trends\n",
    "\n",
    "from importlib import reload"
   ]
  },
  {
   "cell_type": "markdown",
   "metadata": {},
   "source": [
    "# Load in data"
   ]
  },
  {
   "cell_type": "code",
   "execution_count": 17,
   "metadata": {},
   "outputs": [],
   "source": [
    "# load in data that was collected\n",
    "df = pickle.load(open(\"../data/crime_data.pkl\", \"rb\"))"
   ]
  },
  {
   "cell_type": "markdown",
   "metadata": {},
   "source": [
    "## How many crimes were reported over the past 5 years?"
   ]
  },
  {
   "cell_type": "code",
   "execution_count": 15,
   "metadata": {},
   "outputs": [
    {
     "data": {
      "text/plain": [
       "1117864"
      ]
     },
     "execution_count": 15,
     "metadata": {},
     "output_type": "execute_result"
    }
   ],
   "source": [
    "# Check how many crimes were reported over the past 5 years\n",
    "# Calculate current date and offset by 5 years\n",
    "(df[\"date_rptd\"] > (pd.datetime.now()- pd.DateOffset(years=5))).sum()"
   ]
  },
  {
   "cell_type": "markdown",
   "metadata": {},
   "source": [
    "### A: 1,117,864 crimes were reported in the past 5 years"
   ]
  },
  {
   "cell_type": "markdown",
   "metadata": {},
   "source": [
    "## List the top five reported crimes for each year for the past 5 years."
   ]
  },
  {
   "cell_type": "code",
   "execution_count": 16,
   "metadata": {},
   "outputs": [],
   "source": [
    "# Select the last 5 years as a dataframe\n",
    "df_5 = df[df[\"date_rptd\"] > (pd.datetime.now()- pd.DateOffset(years=5))]"
   ]
  },
  {
   "cell_type": "code",
   "execution_count": null,
   "metadata": {},
   "outputs": [],
   "source": [
    "df_5['year'] = pd.DatetimeIndex(df_5['date_rptd']).year"
   ]
  },
  {
   "cell_type": "code",
   "execution_count": null,
   "metadata": {
    "scrolled": true
   },
   "outputs": [],
   "source": [
    "top_5 = df_5.groupby(\"year\")[\"crm_cd_1\"].value_counts(ascending = False)"
   ]
  },
  {
   "cell_type": "code",
   "execution_count": null,
   "metadata": {},
   "outputs": [],
   "source": [
    "top_5.groupby('year').nlargest(5).reset_index(level=1, drop=True)"
   ]
  },
  {
   "cell_type": "markdown",
   "metadata": {},
   "source": [
    "## What are the most common MO codes? Have these changed over the past 5 years?"
   ]
  },
  {
   "cell_type": "code",
   "execution_count": null,
   "metadata": {},
   "outputs": [],
   "source": [
    "df_5[\"mocodes\"].value_counts(ascending = False).head(10)"
   ]
  },
  {
   "cell_type": "code",
   "execution_count": null,
   "metadata": {},
   "outputs": [],
   "source": [
    "df_5.dtypes"
   ]
  },
  {
   "cell_type": "code",
   "execution_count": null,
   "metadata": {},
   "outputs": [],
   "source": [
    "top_5_mo = df_5.groupby(\"year\")[\"mocodes\"].value_counts(ascending = False)"
   ]
  },
  {
   "cell_type": "code",
   "execution_count": null,
   "metadata": {},
   "outputs": [],
   "source": [
    "top_5_mo.groupby('year').nlargest(5).reset_index(level=1, drop=True)"
   ]
  },
  {
   "cell_type": "markdown",
   "metadata": {},
   "source": [
    "## Pickle for later use"
   ]
  },
  {
   "cell_type": "code",
   "execution_count": null,
   "metadata": {},
   "outputs": [],
   "source": [
    "# save data for later use\n",
    "pickle.dump(df_5, open(\"./data/crime_data_5.pkl\", \"wb\"))"
   ]
  },
  {
   "cell_type": "code",
   "execution_count": null,
   "metadata": {},
   "outputs": [],
   "source": []
  }
 ],
 "metadata": {
  "kernelspec": {
   "display_name": "Python 3",
   "language": "python",
   "name": "python3"
  },
  "language_info": {
   "codemirror_mode": {
    "name": "ipython",
    "version": 3
   },
   "file_extension": ".py",
   "mimetype": "text/x-python",
   "name": "python",
   "nbconvert_exporter": "python",
   "pygments_lexer": "ipython3",
   "version": "3.7.4"
  }
 },
 "nbformat": 4,
 "nbformat_minor": 2
}
