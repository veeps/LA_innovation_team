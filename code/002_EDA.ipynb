{
 "cells": [
  {
   "cell_type": "markdown",
   "metadata": {},
   "source": [
    "# Exploratory Data Analysis - Crime Data Los Angeles\n",
    "\n",
    "This notebook is used to explore the questions for the Data Scientist Exercise in July 2020.\n",
    "\n",
    "- How many crimes were reported over the past 5 years?\n",
    "- List the top five reported crimes for each year for the past 5 years.\n",
    "- What are the most common MO codes? Have these changed over the past 5 years?\n",
    "- How else has reported crime changed over time in the City?\n",
    "- Based on your analysis, please share any changes to services, programs, or policies that the City should consider."
   ]
  },
  {
   "cell_type": "markdown",
   "metadata": {},
   "source": [
    "##  Load libraries"
   ]
  },
  {
   "cell_type": "code",
   "execution_count": 1,
   "metadata": {},
   "outputs": [],
   "source": [
    "# Import libraries\n",
    "import os, sys, subprocess\n",
    "import json\n",
    "import pandas as pd\n",
    "import numpy as np\n",
    "from langdetect import detect\n",
    "import pickle\n",
    "\n",
    "pd.set_option('display.max_colwidth', -1)\n",
    "\n",
    "pd.set_option('display.max_rows', 1000)\n",
    "#pd.set_option('display.max_columns', 500)"
   ]
  },
  {
   "cell_type": "code",
   "execution_count": 2,
   "metadata": {},
   "outputs": [],
   "source": [
    "# load project config\n",
    "terminal_call = ! git rev-parse --show-toplevel\n",
    "repo_path=terminal_call[0]\n",
    "project_config_path = os.path.join(repo_path,'project_config.json')\n",
    "\n",
    "with open(project_config_path,'r') as fp: \n",
    "    project_config = json.load(fp)"
   ]
  },
  {
   "cell_type": "code",
   "execution_count": 3,
   "metadata": {},
   "outputs": [],
   "source": [
    "# import custom module to look at trends\n",
    "module_path = os.path.join(repo_path,project_config['project_module_relative_path'])\n",
    "sys.path.append(module_path)\n",
    "\n",
    "import trends\n",
    "from trends import get_top_trends as gt\n",
    "from trends import convert\n",
    "\n",
    "from importlib import reload"
   ]
  },
  {
   "cell_type": "markdown",
   "metadata": {},
   "source": [
    "# Load in data"
   ]
  },
  {
   "cell_type": "code",
   "execution_count": 4,
   "metadata": {},
   "outputs": [],
   "source": [
    "# load in data that was collected\n",
    "df = pickle.load(open(\"../data/crime_data.pkl\", \"rb\"))"
   ]
  },
  {
   "cell_type": "markdown",
   "metadata": {},
   "source": [
    "## How many crimes were reported over the past 5 years?"
   ]
  },
  {
   "cell_type": "code",
   "execution_count": 5,
   "metadata": {},
   "outputs": [
    {
     "data": {
      "text/plain": [
       "1117864"
      ]
     },
     "execution_count": 5,
     "metadata": {},
     "output_type": "execute_result"
    }
   ],
   "source": [
    "# Check how many crimes were reported over the past 5 years\n",
    "# Calculate current date and offset by 5 years\n",
    "(df[\"date_rptd\"] > (pd.datetime.now()- pd.DateOffset(years=5))).sum()"
   ]
  },
  {
   "cell_type": "markdown",
   "metadata": {},
   "source": [
    "### A: 1,117,864 crimes were reported in the past 5 years"
   ]
  },
  {
   "cell_type": "markdown",
   "metadata": {},
   "source": [
    "## List the top five reported crimes for each year for the past 5 years."
   ]
  },
  {
   "cell_type": "code",
   "execution_count": 176,
   "metadata": {},
   "outputs": [
    {
     "data": {
      "text/plain": [
       "<module 'trends' (namespace)>"
      ]
     },
     "execution_count": 176,
     "metadata": {},
     "output_type": "execute_result"
    }
   ],
   "source": [
    "reload(trends)"
   ]
  },
  {
   "cell_type": "code",
   "execution_count": 6,
   "metadata": {},
   "outputs": [],
   "source": [
    "# Select the last 5 years as a dataframe\n",
    "df_5 = df[df[\"date_rptd\"] > (pd.datetime.now()- pd.DateOffset(years=5))]"
   ]
  },
  {
   "cell_type": "code",
   "execution_count": 7,
   "metadata": {},
   "outputs": [],
   "source": [
    "# Find the top 5 reported crimes for each year\n",
    "# Crime is listed in the data under 'crm_cd'\n",
    "# Custom function 'top_trends' groups by column and selects the top 'n' \n",
    "top_crimes = gt.top_trends(df_5, column='year', variable='crm_cd', n=5)"
   ]
  },
  {
   "cell_type": "code",
   "execution_count": 9,
   "metadata": {},
   "outputs": [
    {
     "ename": "NameError",
     "evalue": "name 'crime' is not defined",
     "output_type": "error",
     "traceback": [
      "\u001b[0;31m---------------------------------------------------------------------------\u001b[0m",
      "\u001b[0;31mNameError\u001b[0m                                 Traceback (most recent call last)",
      "\u001b[0;32m<ipython-input-9-b597270cae82>\u001b[0m in \u001b[0;36m<module>\u001b[0;34m\u001b[0m\n\u001b[1;32m      1\u001b[0m \u001b[0;31m# Add in the name of the crimes to dataframe\u001b[0m\u001b[0;34m\u001b[0m\u001b[0;34m\u001b[0m\u001b[0;34m\u001b[0m\u001b[0m\n\u001b[0;32m----> 2\u001b[0;31m \u001b[0mtop_crimes\u001b[0m\u001b[0;34m[\u001b[0m\u001b[0;34m\"crime_name\"\u001b[0m\u001b[0;34m]\u001b[0m \u001b[0;34m=\u001b[0m \u001b[0mconvert\u001b[0m\u001b[0;34m.\u001b[0m\u001b[0mget_names\u001b[0m\u001b[0;34m(\u001b[0m\u001b[0mtop_crimes\u001b[0m\u001b[0;34m,\u001b[0m \u001b[0;34m\"crm_cd\"\u001b[0m\u001b[0;34m,\u001b[0m \u001b[0mcrime\u001b[0m\u001b[0;34m)\u001b[0m\u001b[0;34m\u001b[0m\u001b[0;34m\u001b[0m\u001b[0m\n\u001b[0m",
      "\u001b[0;31mNameError\u001b[0m: name 'crime' is not defined"
     ]
    }
   ],
   "source": [
    "# Add in the name of the crimes to dataframe\n",
    "top_crimes[\"crime_name\"] = convert.get_names(top_crimes, \"crm_cd\", crime)"
   ]
  },
  {
   "cell_type": "code",
   "execution_count": 155,
   "metadata": {},
   "outputs": [
    {
     "data": {
      "text/html": [
       "<div>\n",
       "<style scoped>\n",
       "    .dataframe tbody tr th:only-of-type {\n",
       "        vertical-align: middle;\n",
       "    }\n",
       "\n",
       "    .dataframe tbody tr th {\n",
       "        vertical-align: top;\n",
       "    }\n",
       "\n",
       "    .dataframe thead th {\n",
       "        text-align: right;\n",
       "    }\n",
       "</style>\n",
       "<table border=\"1\" class=\"dataframe\">\n",
       "  <thead>\n",
       "    <tr style=\"text-align: right;\">\n",
       "      <th></th>\n",
       "      <th>year</th>\n",
       "      <th>crm_cd</th>\n",
       "      <th>count</th>\n",
       "      <th>crime</th>\n",
       "    </tr>\n",
       "  </thead>\n",
       "  <tbody>\n",
       "    <tr>\n",
       "      <th>0</th>\n",
       "      <td>2015</td>\n",
       "      <td>624</td>\n",
       "      <td>8853</td>\n",
       "      <td>Battery - misdemeanor</td>\n",
       "    </tr>\n",
       "    <tr>\n",
       "      <th>1</th>\n",
       "      <td>2015</td>\n",
       "      <td>510</td>\n",
       "      <td>8573</td>\n",
       "      <td>Stolen Vehicle</td>\n",
       "    </tr>\n",
       "    <tr>\n",
       "      <th>2</th>\n",
       "      <td>2015</td>\n",
       "      <td>440</td>\n",
       "      <td>7866</td>\n",
       "      <td>Theft - $950 &amp; under</td>\n",
       "    </tr>\n",
       "    <tr>\n",
       "      <th>3</th>\n",
       "      <td>2015</td>\n",
       "      <td>330</td>\n",
       "      <td>7316</td>\n",
       "      <td>Burg from Vehicle</td>\n",
       "    </tr>\n",
       "    <tr>\n",
       "      <th>4</th>\n",
       "      <td>2015</td>\n",
       "      <td>354</td>\n",
       "      <td>7297</td>\n",
       "      <td>None</td>\n",
       "    </tr>\n",
       "    <tr>\n",
       "      <th>131</th>\n",
       "      <td>2016</td>\n",
       "      <td>510</td>\n",
       "      <td>18353</td>\n",
       "      <td>Stolen Vehicle</td>\n",
       "    </tr>\n",
       "    <tr>\n",
       "      <th>132</th>\n",
       "      <td>2016</td>\n",
       "      <td>624</td>\n",
       "      <td>17942</td>\n",
       "      <td>Battery - misdemeanor</td>\n",
       "    </tr>\n",
       "    <tr>\n",
       "      <th>133</th>\n",
       "      <td>2016</td>\n",
       "      <td>330</td>\n",
       "      <td>16779</td>\n",
       "      <td>Burg from Vehicle</td>\n",
       "    </tr>\n",
       "    <tr>\n",
       "      <th>134</th>\n",
       "      <td>2016</td>\n",
       "      <td>440</td>\n",
       "      <td>14814</td>\n",
       "      <td>Theft - $950 &amp; under</td>\n",
       "    </tr>\n",
       "    <tr>\n",
       "      <th>135</th>\n",
       "      <td>2016</td>\n",
       "      <td>310</td>\n",
       "      <td>14558</td>\n",
       "      <td>Burglary</td>\n",
       "    </tr>\n",
       "    <tr>\n",
       "      <th>261</th>\n",
       "      <td>2017</td>\n",
       "      <td>624</td>\n",
       "      <td>19074</td>\n",
       "      <td>Battery - misdemeanor</td>\n",
       "    </tr>\n",
       "    <tr>\n",
       "      <th>262</th>\n",
       "      <td>2017</td>\n",
       "      <td>510</td>\n",
       "      <td>18757</td>\n",
       "      <td>Stolen Vehicle</td>\n",
       "    </tr>\n",
       "    <tr>\n",
       "      <th>263</th>\n",
       "      <td>2017</td>\n",
       "      <td>330</td>\n",
       "      <td>18082</td>\n",
       "      <td>Burg from Vehicle</td>\n",
       "    </tr>\n",
       "    <tr>\n",
       "      <th>264</th>\n",
       "      <td>2017</td>\n",
       "      <td>310</td>\n",
       "      <td>15279</td>\n",
       "      <td>Burglary</td>\n",
       "    </tr>\n",
       "    <tr>\n",
       "      <th>265</th>\n",
       "      <td>2017</td>\n",
       "      <td>440</td>\n",
       "      <td>14774</td>\n",
       "      <td>Theft - $950 &amp; under</td>\n",
       "    </tr>\n",
       "    <tr>\n",
       "      <th>397</th>\n",
       "      <td>2018</td>\n",
       "      <td>624</td>\n",
       "      <td>19427</td>\n",
       "      <td>Battery - misdemeanor</td>\n",
       "    </tr>\n",
       "    <tr>\n",
       "      <th>398</th>\n",
       "      <td>2018</td>\n",
       "      <td>330</td>\n",
       "      <td>18070</td>\n",
       "      <td>Burg from Vehicle</td>\n",
       "    </tr>\n",
       "    <tr>\n",
       "      <th>399</th>\n",
       "      <td>2018</td>\n",
       "      <td>510</td>\n",
       "      <td>17129</td>\n",
       "      <td>Stolen Vehicle</td>\n",
       "    </tr>\n",
       "    <tr>\n",
       "      <th>400</th>\n",
       "      <td>2018</td>\n",
       "      <td>440</td>\n",
       "      <td>15420</td>\n",
       "      <td>Theft - $950 &amp; under</td>\n",
       "    </tr>\n",
       "    <tr>\n",
       "      <th>401</th>\n",
       "      <td>2018</td>\n",
       "      <td>310</td>\n",
       "      <td>14814</td>\n",
       "      <td>Burglary</td>\n",
       "    </tr>\n",
       "    <tr>\n",
       "      <th>532</th>\n",
       "      <td>2019</td>\n",
       "      <td>624</td>\n",
       "      <td>19008</td>\n",
       "      <td>Battery - misdemeanor</td>\n",
       "    </tr>\n",
       "    <tr>\n",
       "      <th>533</th>\n",
       "      <td>2019</td>\n",
       "      <td>330</td>\n",
       "      <td>16750</td>\n",
       "      <td>Burg from Vehicle</td>\n",
       "    </tr>\n",
       "    <tr>\n",
       "      <th>534</th>\n",
       "      <td>2019</td>\n",
       "      <td>440</td>\n",
       "      <td>15455</td>\n",
       "      <td>Theft - $950 &amp; under</td>\n",
       "    </tr>\n",
       "    <tr>\n",
       "      <th>535</th>\n",
       "      <td>2019</td>\n",
       "      <td>510</td>\n",
       "      <td>15427</td>\n",
       "      <td>Stolen Vehicle</td>\n",
       "    </tr>\n",
       "    <tr>\n",
       "      <th>536</th>\n",
       "      <td>2019</td>\n",
       "      <td>740</td>\n",
       "      <td>12859</td>\n",
       "      <td>None</td>\n",
       "    </tr>\n",
       "    <tr>\n",
       "      <th>668</th>\n",
       "      <td>2020</td>\n",
       "      <td>510</td>\n",
       "      <td>9760</td>\n",
       "      <td>Stolen Vehicle</td>\n",
       "    </tr>\n",
       "    <tr>\n",
       "      <th>669</th>\n",
       "      <td>2020</td>\n",
       "      <td>624</td>\n",
       "      <td>8198</td>\n",
       "      <td>Battery - misdemeanor</td>\n",
       "    </tr>\n",
       "    <tr>\n",
       "      <th>670</th>\n",
       "      <td>2020</td>\n",
       "      <td>330</td>\n",
       "      <td>6893</td>\n",
       "      <td>Burg from Vehicle</td>\n",
       "    </tr>\n",
       "    <tr>\n",
       "      <th>671</th>\n",
       "      <td>2020</td>\n",
       "      <td>310</td>\n",
       "      <td>6695</td>\n",
       "      <td>Burglary</td>\n",
       "    </tr>\n",
       "    <tr>\n",
       "      <th>672</th>\n",
       "      <td>2020</td>\n",
       "      <td>740</td>\n",
       "      <td>6368</td>\n",
       "      <td>None</td>\n",
       "    </tr>\n",
       "  </tbody>\n",
       "</table>\n",
       "</div>"
      ],
      "text/plain": [
       "     year  crm_cd  count                  crime\n",
       "0    2015  624     8853   Battery - misdemeanor\n",
       "1    2015  510     8573   Stolen Vehicle       \n",
       "2    2015  440     7866   Theft - $950 & under \n",
       "3    2015  330     7316   Burg from Vehicle    \n",
       "4    2015  354     7297   None                 \n",
       "131  2016  510     18353  Stolen Vehicle       \n",
       "132  2016  624     17942  Battery - misdemeanor\n",
       "133  2016  330     16779  Burg from Vehicle    \n",
       "134  2016  440     14814  Theft - $950 & under \n",
       "135  2016  310     14558  Burglary             \n",
       "261  2017  624     19074  Battery - misdemeanor\n",
       "262  2017  510     18757  Stolen Vehicle       \n",
       "263  2017  330     18082  Burg from Vehicle    \n",
       "264  2017  310     15279  Burglary             \n",
       "265  2017  440     14774  Theft - $950 & under \n",
       "397  2018  624     19427  Battery - misdemeanor\n",
       "398  2018  330     18070  Burg from Vehicle    \n",
       "399  2018  510     17129  Stolen Vehicle       \n",
       "400  2018  440     15420  Theft - $950 & under \n",
       "401  2018  310     14814  Burglary             \n",
       "532  2019  624     19008  Battery - misdemeanor\n",
       "533  2019  330     16750  Burg from Vehicle    \n",
       "534  2019  440     15455  Theft - $950 & under \n",
       "535  2019  510     15427  Stolen Vehicle       \n",
       "536  2019  740     12859  None                 \n",
       "668  2020  510     9760   Stolen Vehicle       \n",
       "669  2020  624     8198   Battery - misdemeanor\n",
       "670  2020  330     6893   Burg from Vehicle    \n",
       "671  2020  310     6695   Burglary             \n",
       "672  2020  740     6368   None                 "
      ]
     },
     "execution_count": 155,
     "metadata": {},
     "output_type": "execute_result"
    }
   ],
   "source": [
    "test"
   ]
  },
  {
   "cell_type": "code",
   "execution_count": 145,
   "metadata": {},
   "outputs": [
    {
     "data": {
      "text/plain": [
       "0      Battery - misdemeanor\n",
       "1      Stolen Vehicle       \n",
       "2      Theft - $950 & under \n",
       "3      Burg from Vehicle    \n",
       "4      None                 \n",
       "131    Stolen Vehicle       \n",
       "132    Battery - misdemeanor\n",
       "133    Burg from Vehicle    \n",
       "134    Theft - $950 & under \n",
       "135    Burglary             \n",
       "261    Battery - misdemeanor\n",
       "262    Stolen Vehicle       \n",
       "263    Burg from Vehicle    \n",
       "264    Burglary             \n",
       "265    Theft - $950 & under \n",
       "397    Battery - misdemeanor\n",
       "398    Burg from Vehicle    \n",
       "399    Stolen Vehicle       \n",
       "400    Theft - $950 & under \n",
       "401    Burglary             \n",
       "532    Battery - misdemeanor\n",
       "533    Burg from Vehicle    \n",
       "534    Theft - $950 & under \n",
       "535    Stolen Vehicle       \n",
       "536    None                 \n",
       "668    Stolen Vehicle       \n",
       "669    Battery - misdemeanor\n",
       "670    Burg from Vehicle    \n",
       "671    Burglary             \n",
       "672    None                 \n",
       "Name: crm_cd, dtype: object"
      ]
     },
     "execution_count": 145,
     "metadata": {},
     "output_type": "execute_result"
    }
   ],
   "source": [
    "test[\"crm_cd\"].apply(crime_codes.get)"
   ]
  },
  {
   "cell_type": "markdown",
   "metadata": {},
   "source": [
    "## What are the most common MO codes? Have these changed over the past 5 years?"
   ]
  },
  {
   "cell_type": "code",
   "execution_count": 36,
   "metadata": {},
   "outputs": [
    {
     "data": {
      "text/plain": [
       "0344         93842\n",
       "0329         44407\n",
       "1501         18472\n",
       "0325         12737\n",
       "0416         12317\n",
       "0329 1300    8302 \n",
       "1822         8234 \n",
       "0344 1300    6090 \n",
       "0344 1606    5898 \n",
       "0329 1307    4808 \n",
       "Name: mocodes, dtype: int64"
      ]
     },
     "execution_count": 36,
     "metadata": {},
     "output_type": "execute_result"
    }
   ],
   "source": [
    "# Find the top 10 most common MO codes across all the years (2010-2020)\n",
    "df_5[\"mocodes\"].value_counts(ascending = False).head(10)"
   ]
  },
  {
   "cell_type": "code",
   "execution_count": 37,
   "metadata": {
    "scrolled": true
   },
   "outputs": [
    {
     "data": {
      "text/plain": [
       "year  mocodes  \n",
       "2015  0344         12619\n",
       "      0329         4784 \n",
       "      1501         2013 \n",
       "      0325         1632 \n",
       "      0416         1573 \n",
       "2016  0344         22719\n",
       "      0329         9713 \n",
       "      1501         4215 \n",
       "      0325         3037 \n",
       "      0416         2939 \n",
       "2017  0344         20205\n",
       "      0329         9811 \n",
       "      1501         4436 \n",
       "      0416         2938 \n",
       "      0325         2737 \n",
       "2018  0344         17485\n",
       "      0329         9032 \n",
       "      1501         3705 \n",
       "      0416         2375 \n",
       "      0325         2354 \n",
       "2019  0344         15849\n",
       "      0329         8156 \n",
       "      1501         2984 \n",
       "      0325         2327 \n",
       "      0416         1977 \n",
       "2020  0344         4965 \n",
       "      0329         2911 \n",
       "      1501         1119 \n",
       "      0344 1300    706  \n",
       "      0329 1300    698  \n",
       "Name: mocodes, dtype: int64"
      ]
     },
     "execution_count": 37,
     "metadata": {},
     "output_type": "execute_result"
    }
   ],
   "source": [
    "# Find the top 10 MO codes for each year\n",
    "# MO code is listed in the data under 'mocodes'\n",
    "# Custom function 'top_trends' groups by column and selects the top 'n' \n",
    "gt.top_trends(df_5, column='year', variable='mocodes', n=5)"
   ]
  }
 ],
 "metadata": {
  "kernelspec": {
   "display_name": "Python 3",
   "language": "python",
   "name": "python3"
  },
  "language_info": {
   "codemirror_mode": {
    "name": "ipython",
    "version": 3
   },
   "file_extension": ".py",
   "mimetype": "text/x-python",
   "name": "python",
   "nbconvert_exporter": "python",
   "pygments_lexer": "ipython3",
   "version": "3.7.4"
  }
 },
 "nbformat": 4,
 "nbformat_minor": 2
}
