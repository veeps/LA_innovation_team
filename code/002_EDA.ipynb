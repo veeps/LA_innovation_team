{
 "cells": [
  {
   "cell_type": "markdown",
   "metadata": {},
   "source": [
    "# Exploratory Data Analysis - Crime Data Los Angeles\n",
    "\n",
    "This notebook is used to explore the questions for the Data Scientist Exercise in July 2020.\n",
    "\n",
    "- How many crimes were reported over the past 5 years?\n",
    "- List the top five reported crimes for each year for the past 5 years.\n",
    "- What are the most common MO codes? Have these changed over the past 5 years?\n",
    "- How else has reported crime changed over time in the City?\n",
    "- Based on your analysis, please share any changes to services, programs, or policies that the City should consider."
   ]
  },
  {
   "cell_type": "markdown",
   "metadata": {},
   "source": [
    "##  Load libraries"
   ]
  },
  {
   "cell_type": "code",
   "execution_count": 81,
   "metadata": {},
   "outputs": [],
   "source": [
    "# Import libraries\n",
    "import os, sys, subprocess\n",
    "import json\n",
    "import pandas as pd\n",
    "import numpy as np\n",
    "import pickle\n",
    "import seaborn as sns\n",
    "import matplotlib.pyplot as plt\n",
    "\n",
    "pd.set_option('display.max_colwidth', -1)\n",
    "pd.set_option('display.max_columns', 500)"
   ]
  },
  {
   "cell_type": "code",
   "execution_count": 24,
   "metadata": {},
   "outputs": [],
   "source": [
    "# load project config\n",
    "terminal_call = ! git rev-parse --show-toplevel\n",
    "repo_path=terminal_call[0]\n",
    "project_config_path = os.path.join(repo_path,'project_config.json')\n",
    "\n",
    "with open(project_config_path,'r') as fp: \n",
    "    project_config = json.load(fp)"
   ]
  },
  {
   "cell_type": "code",
   "execution_count": 25,
   "metadata": {},
   "outputs": [],
   "source": [
    "# import custom module to look at trends\n",
    "module_path = os.path.join(repo_path,project_config['project_module_relative_path'])\n",
    "sys.path.append(module_path)\n",
    "\n",
    "import trends\n",
    "from trends import get_top_trends as gt\n",
    "from trends import convert\n",
    "from trends.convert import crime_dict, mocode_dict # load in crime name dictionary\n",
    "from importlib import reload # for updating scripts"
   ]
  },
  {
   "cell_type": "markdown",
   "metadata": {},
   "source": [
    "# Load in data"
   ]
  },
  {
   "cell_type": "code",
   "execution_count": 31,
   "metadata": {},
   "outputs": [],
   "source": [
    "# load in data that was collected\n",
    "df = pickle.load(open(\"../data/crime_data.pkl\", \"rb\"))"
   ]
  },
  {
   "cell_type": "code",
   "execution_count": 45,
   "metadata": {},
   "outputs": [],
   "source": [
    "# Explore summary info\n",
    "def eda(df):\n",
    "    nulls = pd.DataFrame(df.isnull().sum()).T # Check for nulls\n",
    "    datatypes = pd.DataFrame(df.dtypes).T # Check datatypes\n",
    "    summary = pd.concat([nulls, datatypes], keys = [\"nulls\", \"datatypes\"]) # Create pandas dataframe, because I think it's easier to read\n",
    "    return summary"
   ]
  },
  {
   "cell_type": "code",
   "execution_count": 48,
   "metadata": {},
   "outputs": [
    {
     "data": {
      "text/html": [
       "<div>\n",
       "<style scoped>\n",
       "    .dataframe tbody tr th:only-of-type {\n",
       "        vertical-align: middle;\n",
       "    }\n",
       "\n",
       "    .dataframe tbody tr th {\n",
       "        vertical-align: top;\n",
       "    }\n",
       "\n",
       "    .dataframe thead th {\n",
       "        text-align: right;\n",
       "    }\n",
       "</style>\n",
       "<table border=\"1\" class=\"dataframe\">\n",
       "  <thead>\n",
       "    <tr style=\"text-align: right;\">\n",
       "      <th></th>\n",
       "      <th></th>\n",
       "      <th>dr_no</th>\n",
       "      <th>date_rptd</th>\n",
       "      <th>date_occ</th>\n",
       "      <th>time_occ</th>\n",
       "      <th>area</th>\n",
       "      <th>area_name</th>\n",
       "      <th>rpt_dist_no</th>\n",
       "      <th>part_1-2</th>\n",
       "      <th>crm_cd</th>\n",
       "      <th>crm_cd_desc</th>\n",
       "      <th>mocodes</th>\n",
       "      <th>vict_age</th>\n",
       "      <th>vict_sex</th>\n",
       "      <th>vict_descent</th>\n",
       "      <th>premis_cd</th>\n",
       "      <th>premis_desc</th>\n",
       "      <th>weapon_used_cd</th>\n",
       "      <th>weapon_desc</th>\n",
       "      <th>status</th>\n",
       "      <th>status_desc</th>\n",
       "      <th>crm_cd_1</th>\n",
       "      <th>crm_cd_2</th>\n",
       "      <th>crm_cd_3</th>\n",
       "      <th>crm_cd_4</th>\n",
       "      <th>location</th>\n",
       "      <th>cross_street</th>\n",
       "      <th>lat</th>\n",
       "      <th>lon</th>\n",
       "      <th>year</th>\n",
       "      <th>mocodes_1</th>\n",
       "      <th>mocodes_2</th>\n",
       "      <th>mocodes_3</th>\n",
       "    </tr>\n",
       "  </thead>\n",
       "  <tbody>\n",
       "    <tr>\n",
       "      <th>nulls</th>\n",
       "      <th>0</th>\n",
       "      <td>0</td>\n",
       "      <td>0</td>\n",
       "      <td>0</td>\n",
       "      <td>0</td>\n",
       "      <td>0</td>\n",
       "      <td>0</td>\n",
       "      <td>0</td>\n",
       "      <td>0</td>\n",
       "      <td>0</td>\n",
       "      <td>0</td>\n",
       "      <td>240361</td>\n",
       "      <td>0</td>\n",
       "      <td>208478</td>\n",
       "      <td>208527</td>\n",
       "      <td>55</td>\n",
       "      <td>228</td>\n",
       "      <td>1464999</td>\n",
       "      <td>1465000</td>\n",
       "      <td>3</td>\n",
       "      <td>0</td>\n",
       "      <td>11</td>\n",
       "      <td>2063105</td>\n",
       "      <td>2206364</td>\n",
       "      <td>2209991</td>\n",
       "      <td>0</td>\n",
       "      <td>1837686</td>\n",
       "      <td>0</td>\n",
       "      <td>0</td>\n",
       "      <td>0</td>\n",
       "      <td>0</td>\n",
       "      <td>240361</td>\n",
       "      <td>240361</td>\n",
       "    </tr>\n",
       "    <tr>\n",
       "      <th>datatypes</th>\n",
       "      <th>0</th>\n",
       "      <td>int64</td>\n",
       "      <td>datetime64[ns]</td>\n",
       "      <td>datetime64[ns]</td>\n",
       "      <td>int64</td>\n",
       "      <td>int64</td>\n",
       "      <td>object</td>\n",
       "      <td>int64</td>\n",
       "      <td>int64</td>\n",
       "      <td>int64</td>\n",
       "      <td>object</td>\n",
       "      <td>object</td>\n",
       "      <td>int64</td>\n",
       "      <td>object</td>\n",
       "      <td>object</td>\n",
       "      <td>float64</td>\n",
       "      <td>object</td>\n",
       "      <td>float64</td>\n",
       "      <td>object</td>\n",
       "      <td>object</td>\n",
       "      <td>object</td>\n",
       "      <td>float64</td>\n",
       "      <td>float64</td>\n",
       "      <td>float64</td>\n",
       "      <td>float64</td>\n",
       "      <td>object</td>\n",
       "      <td>object</td>\n",
       "      <td>float64</td>\n",
       "      <td>float64</td>\n",
       "      <td>int64</td>\n",
       "      <td>int64</td>\n",
       "      <td>object</td>\n",
       "      <td>object</td>\n",
       "    </tr>\n",
       "  </tbody>\n",
       "</table>\n",
       "</div>"
      ],
      "text/plain": [
       "             dr_no       date_rptd        date_occ time_occ   area area_name  \\\n",
       "nulls     0  0      0               0               0        0      0          \n",
       "datatypes 0  int64  datetime64[ns]  datetime64[ns]  int64    int64  object     \n",
       "\n",
       "            rpt_dist_no part_1-2 crm_cd crm_cd_desc mocodes vict_age vict_sex  \\\n",
       "nulls     0  0           0        0      0           240361  0        208478    \n",
       "datatypes 0  int64       int64    int64  object      object  int64    object    \n",
       "\n",
       "            vict_descent premis_cd premis_desc weapon_used_cd weapon_desc  \\\n",
       "nulls     0  208527       55        228         1464999        1465000      \n",
       "datatypes 0  object       float64   object      float64        object       \n",
       "\n",
       "             status status_desc crm_cd_1 crm_cd_2 crm_cd_3 crm_cd_4 location  \\\n",
       "nulls     0  3       0           11       2063105  2206364  2209991  0         \n",
       "datatypes 0  object  object      float64  float64  float64  float64  object    \n",
       "\n",
       "            cross_street      lat      lon   year mocodes_1 mocodes_2  \\\n",
       "nulls     0  1837686      0        0        0      0         240361     \n",
       "datatypes 0  object       float64  float64  int64  int64     object     \n",
       "\n",
       "            mocodes_3  \n",
       "nulls     0  240361    \n",
       "datatypes 0  object    "
      ]
     },
     "execution_count": 48,
     "metadata": {},
     "output_type": "execute_result"
    }
   ],
   "source": [
    "eda(df)"
   ]
  },
  {
   "cell_type": "markdown",
   "metadata": {},
   "source": [
    "## How many crimes were reported over the past 5 years?"
   ]
  },
  {
   "cell_type": "code",
   "execution_count": 6,
   "metadata": {},
   "outputs": [
    {
     "data": {
      "text/plain": [
       "1117864"
      ]
     },
     "execution_count": 6,
     "metadata": {},
     "output_type": "execute_result"
    }
   ],
   "source": [
    "# Check how many crimes were reported over the past 5 years\n",
    "# Calculate current date and offset by 5 years\n",
    "(df[\"date_rptd\"] > (pd.datetime.now()- pd.DateOffset(years=5))).sum()"
   ]
  },
  {
   "cell_type": "markdown",
   "metadata": {},
   "source": [
    "### A: 1,117,864 crimes were reported in the past 5 years"
   ]
  },
  {
   "cell_type": "markdown",
   "metadata": {},
   "source": [
    "## List the top five reported crimes for each year for the past 5 years."
   ]
  },
  {
   "cell_type": "code",
   "execution_count": null,
   "metadata": {},
   "outputs": [],
   "source": [
    "reload(trends)"
   ]
  },
  {
   "cell_type": "markdown",
   "metadata": {},
   "source": [
    "### Subset data for the last 5 years"
   ]
  },
  {
   "cell_type": "code",
   "execution_count": 33,
   "metadata": {},
   "outputs": [],
   "source": [
    "# Select the last 5 years as a dataframe\n",
    "df_5 = df[df[\"date_rptd\"] > (pd.datetime.now()- pd.DateOffset(years=5))]"
   ]
  },
  {
   "cell_type": "code",
   "execution_count": 34,
   "metadata": {},
   "outputs": [],
   "source": [
    "# Find the top 5 reported crimes for each year\n",
    "# Crime is listed in the data under 'crm_cd'\n",
    "# Custom function 'top_trends' groups by column and selects the top 'n' \n",
    "top_crimes = gt.top_trends(df_5, column='year', variable='crm_cd', n=5)"
   ]
  },
  {
   "cell_type": "code",
   "execution_count": 35,
   "metadata": {},
   "outputs": [],
   "source": [
    "# Add in the name of the crimes to dataframe\n",
    "top_crimes[\"crm_name\"] = convert.get_names(top_crimes, \"crm_cd\", crime_dict)"
   ]
  },
  {
   "cell_type": "code",
   "execution_count": 36,
   "metadata": {},
   "outputs": [
    {
     "data": {
      "text/html": [
       "<div>\n",
       "<style scoped>\n",
       "    .dataframe tbody tr th:only-of-type {\n",
       "        vertical-align: middle;\n",
       "    }\n",
       "\n",
       "    .dataframe tbody tr th {\n",
       "        vertical-align: top;\n",
       "    }\n",
       "\n",
       "    .dataframe thead th {\n",
       "        text-align: right;\n",
       "    }\n",
       "</style>\n",
       "<table border=\"1\" class=\"dataframe\">\n",
       "  <thead>\n",
       "    <tr style=\"text-align: right;\">\n",
       "      <th></th>\n",
       "      <th>year</th>\n",
       "      <th>crm_cd</th>\n",
       "      <th>count</th>\n",
       "      <th>crm_name</th>\n",
       "    </tr>\n",
       "  </thead>\n",
       "  <tbody>\n",
       "    <tr>\n",
       "      <th>0</th>\n",
       "      <td>2015</td>\n",
       "      <td>624</td>\n",
       "      <td>8853</td>\n",
       "      <td>Battery - misdemeanor</td>\n",
       "    </tr>\n",
       "    <tr>\n",
       "      <th>1</th>\n",
       "      <td>2015</td>\n",
       "      <td>510</td>\n",
       "      <td>8573</td>\n",
       "      <td>Stolen Vehicle</td>\n",
       "    </tr>\n",
       "    <tr>\n",
       "      <th>2</th>\n",
       "      <td>2015</td>\n",
       "      <td>440</td>\n",
       "      <td>7866</td>\n",
       "      <td>Theft - $950 &amp; under</td>\n",
       "    </tr>\n",
       "    <tr>\n",
       "      <th>3</th>\n",
       "      <td>2015</td>\n",
       "      <td>330</td>\n",
       "      <td>7316</td>\n",
       "      <td>Burg from Vehicle</td>\n",
       "    </tr>\n",
       "    <tr>\n",
       "      <th>4</th>\n",
       "      <td>2015</td>\n",
       "      <td>354</td>\n",
       "      <td>7297</td>\n",
       "      <td>Theft of Identity</td>\n",
       "    </tr>\n",
       "    <tr>\n",
       "      <th>131</th>\n",
       "      <td>2016</td>\n",
       "      <td>510</td>\n",
       "      <td>18353</td>\n",
       "      <td>Stolen Vehicle</td>\n",
       "    </tr>\n",
       "    <tr>\n",
       "      <th>132</th>\n",
       "      <td>2016</td>\n",
       "      <td>624</td>\n",
       "      <td>17942</td>\n",
       "      <td>Battery - misdemeanor</td>\n",
       "    </tr>\n",
       "    <tr>\n",
       "      <th>133</th>\n",
       "      <td>2016</td>\n",
       "      <td>330</td>\n",
       "      <td>16779</td>\n",
       "      <td>Burg from Vehicle</td>\n",
       "    </tr>\n",
       "    <tr>\n",
       "      <th>134</th>\n",
       "      <td>2016</td>\n",
       "      <td>440</td>\n",
       "      <td>14814</td>\n",
       "      <td>Theft - $950 &amp; under</td>\n",
       "    </tr>\n",
       "    <tr>\n",
       "      <th>135</th>\n",
       "      <td>2016</td>\n",
       "      <td>310</td>\n",
       "      <td>14558</td>\n",
       "      <td>Burglary</td>\n",
       "    </tr>\n",
       "    <tr>\n",
       "      <th>261</th>\n",
       "      <td>2017</td>\n",
       "      <td>624</td>\n",
       "      <td>19074</td>\n",
       "      <td>Battery - misdemeanor</td>\n",
       "    </tr>\n",
       "    <tr>\n",
       "      <th>262</th>\n",
       "      <td>2017</td>\n",
       "      <td>510</td>\n",
       "      <td>18757</td>\n",
       "      <td>Stolen Vehicle</td>\n",
       "    </tr>\n",
       "    <tr>\n",
       "      <th>263</th>\n",
       "      <td>2017</td>\n",
       "      <td>330</td>\n",
       "      <td>18082</td>\n",
       "      <td>Burg from Vehicle</td>\n",
       "    </tr>\n",
       "    <tr>\n",
       "      <th>264</th>\n",
       "      <td>2017</td>\n",
       "      <td>310</td>\n",
       "      <td>15279</td>\n",
       "      <td>Burglary</td>\n",
       "    </tr>\n",
       "    <tr>\n",
       "      <th>265</th>\n",
       "      <td>2017</td>\n",
       "      <td>440</td>\n",
       "      <td>14774</td>\n",
       "      <td>Theft - $950 &amp; under</td>\n",
       "    </tr>\n",
       "    <tr>\n",
       "      <th>397</th>\n",
       "      <td>2018</td>\n",
       "      <td>624</td>\n",
       "      <td>19427</td>\n",
       "      <td>Battery - misdemeanor</td>\n",
       "    </tr>\n",
       "    <tr>\n",
       "      <th>398</th>\n",
       "      <td>2018</td>\n",
       "      <td>330</td>\n",
       "      <td>18070</td>\n",
       "      <td>Burg from Vehicle</td>\n",
       "    </tr>\n",
       "    <tr>\n",
       "      <th>399</th>\n",
       "      <td>2018</td>\n",
       "      <td>510</td>\n",
       "      <td>17129</td>\n",
       "      <td>Stolen Vehicle</td>\n",
       "    </tr>\n",
       "    <tr>\n",
       "      <th>400</th>\n",
       "      <td>2018</td>\n",
       "      <td>440</td>\n",
       "      <td>15420</td>\n",
       "      <td>Theft - $950 &amp; under</td>\n",
       "    </tr>\n",
       "    <tr>\n",
       "      <th>401</th>\n",
       "      <td>2018</td>\n",
       "      <td>310</td>\n",
       "      <td>14814</td>\n",
       "      <td>Burglary</td>\n",
       "    </tr>\n",
       "    <tr>\n",
       "      <th>532</th>\n",
       "      <td>2019</td>\n",
       "      <td>624</td>\n",
       "      <td>19008</td>\n",
       "      <td>Battery - misdemeanor</td>\n",
       "    </tr>\n",
       "    <tr>\n",
       "      <th>533</th>\n",
       "      <td>2019</td>\n",
       "      <td>330</td>\n",
       "      <td>16750</td>\n",
       "      <td>Burg from Vehicle</td>\n",
       "    </tr>\n",
       "    <tr>\n",
       "      <th>534</th>\n",
       "      <td>2019</td>\n",
       "      <td>440</td>\n",
       "      <td>15455</td>\n",
       "      <td>Theft - $950 &amp; under</td>\n",
       "    </tr>\n",
       "    <tr>\n",
       "      <th>535</th>\n",
       "      <td>2019</td>\n",
       "      <td>510</td>\n",
       "      <td>15427</td>\n",
       "      <td>Stolen Vehicle</td>\n",
       "    </tr>\n",
       "    <tr>\n",
       "      <th>536</th>\n",
       "      <td>2019</td>\n",
       "      <td>740</td>\n",
       "      <td>12859</td>\n",
       "      <td>Vandalism - Felony $400 &amp; over, all church vandalisms</td>\n",
       "    </tr>\n",
       "    <tr>\n",
       "      <th>668</th>\n",
       "      <td>2020</td>\n",
       "      <td>510</td>\n",
       "      <td>9760</td>\n",
       "      <td>Stolen Vehicle</td>\n",
       "    </tr>\n",
       "    <tr>\n",
       "      <th>669</th>\n",
       "      <td>2020</td>\n",
       "      <td>624</td>\n",
       "      <td>8198</td>\n",
       "      <td>Battery - misdemeanor</td>\n",
       "    </tr>\n",
       "    <tr>\n",
       "      <th>670</th>\n",
       "      <td>2020</td>\n",
       "      <td>330</td>\n",
       "      <td>6893</td>\n",
       "      <td>Burg from Vehicle</td>\n",
       "    </tr>\n",
       "    <tr>\n",
       "      <th>671</th>\n",
       "      <td>2020</td>\n",
       "      <td>310</td>\n",
       "      <td>6695</td>\n",
       "      <td>Burglary</td>\n",
       "    </tr>\n",
       "    <tr>\n",
       "      <th>672</th>\n",
       "      <td>2020</td>\n",
       "      <td>740</td>\n",
       "      <td>6368</td>\n",
       "      <td>Vandalism - Felony $400 &amp; over, all church vandalisms</td>\n",
       "    </tr>\n",
       "  </tbody>\n",
       "</table>\n",
       "</div>"
      ],
      "text/plain": [
       "     year  crm_cd  count  \\\n",
       "0    2015  624     8853    \n",
       "1    2015  510     8573    \n",
       "2    2015  440     7866    \n",
       "3    2015  330     7316    \n",
       "4    2015  354     7297    \n",
       "131  2016  510     18353   \n",
       "132  2016  624     17942   \n",
       "133  2016  330     16779   \n",
       "134  2016  440     14814   \n",
       "135  2016  310     14558   \n",
       "261  2017  624     19074   \n",
       "262  2017  510     18757   \n",
       "263  2017  330     18082   \n",
       "264  2017  310     15279   \n",
       "265  2017  440     14774   \n",
       "397  2018  624     19427   \n",
       "398  2018  330     18070   \n",
       "399  2018  510     17129   \n",
       "400  2018  440     15420   \n",
       "401  2018  310     14814   \n",
       "532  2019  624     19008   \n",
       "533  2019  330     16750   \n",
       "534  2019  440     15455   \n",
       "535  2019  510     15427   \n",
       "536  2019  740     12859   \n",
       "668  2020  510     9760    \n",
       "669  2020  624     8198    \n",
       "670  2020  330     6893    \n",
       "671  2020  310     6695    \n",
       "672  2020  740     6368    \n",
       "\n",
       "                                                  crm_name  \n",
       "0    Battery - misdemeanor                                  \n",
       "1    Stolen Vehicle                                         \n",
       "2    Theft - $950 & under                                   \n",
       "3    Burg from Vehicle                                      \n",
       "4    Theft of Identity                                      \n",
       "131  Stolen Vehicle                                         \n",
       "132  Battery - misdemeanor                                  \n",
       "133  Burg from Vehicle                                      \n",
       "134  Theft - $950 & under                                   \n",
       "135  Burglary                                               \n",
       "261  Battery - misdemeanor                                  \n",
       "262  Stolen Vehicle                                         \n",
       "263  Burg from Vehicle                                      \n",
       "264  Burglary                                               \n",
       "265  Theft - $950 & under                                   \n",
       "397  Battery - misdemeanor                                  \n",
       "398  Burg from Vehicle                                      \n",
       "399  Stolen Vehicle                                         \n",
       "400  Theft - $950 & under                                   \n",
       "401  Burglary                                               \n",
       "532  Battery - misdemeanor                                  \n",
       "533  Burg from Vehicle                                      \n",
       "534  Theft - $950 & under                                   \n",
       "535  Stolen Vehicle                                         \n",
       "536  Vandalism - Felony $400 & over, all church vandalisms  \n",
       "668  Stolen Vehicle                                         \n",
       "669  Battery - misdemeanor                                  \n",
       "670  Burg from Vehicle                                      \n",
       "671  Burglary                                               \n",
       "672  Vandalism - Felony $400 & over, all church vandalisms  "
      ]
     },
     "execution_count": 36,
     "metadata": {},
     "output_type": "execute_result"
    }
   ],
   "source": [
    "top_crimes"
   ]
  },
  {
   "cell_type": "markdown",
   "metadata": {},
   "source": [
    "## What are the most common MO codes? Have these changed over the past 5 years?"
   ]
  },
  {
   "cell_type": "markdown",
   "metadata": {},
   "source": [
    "From the summary info above, I see there are 240361 rows of missing MO codes in the original dataframe. I will remove the NA for this question."
   ]
  },
  {
   "cell_type": "code",
   "execution_count": 49,
   "metadata": {},
   "outputs": [
    {
     "data": {
      "text/plain": [
       "0        True \n",
       "1        True \n",
       "2        True \n",
       "3        True \n",
       "4        True \n",
       "         ...  \n",
       "95400    False\n",
       "95401    True \n",
       "95402    True \n",
       "95403    True \n",
       "95404    True \n",
       "Name: mocodes, Length: 2210104, dtype: bool"
      ]
     },
     "execution_count": 49,
     "metadata": {},
     "output_type": "execute_result"
    }
   ],
   "source": [
    "df[\"mocodes\"].notnull()"
   ]
  },
  {
   "cell_type": "code",
   "execution_count": 52,
   "metadata": {},
   "outputs": [],
   "source": [
    "# Select the last 5 years as a dataframe\n",
    "df_5 = df_5[df_5[\"mocodes\"].notnull()]"
   ]
  },
  {
   "cell_type": "code",
   "execution_count": 53,
   "metadata": {},
   "outputs": [
    {
     "data": {
      "text/plain": [
       "0344         93842\n",
       "0329         44407\n",
       "1501         18472\n",
       "0325         12737\n",
       "0416         12317\n",
       "0329 1300    8302 \n",
       "1822         8234 \n",
       "0344 1300    6090 \n",
       "0344 1606    5898 \n",
       "0329 1307    4808 \n",
       "Name: mocodes, dtype: int64"
      ]
     },
     "execution_count": 53,
     "metadata": {},
     "output_type": "execute_result"
    }
   ],
   "source": [
    "# Find the top 10 most common MO codes across all the years (2010-2020)\n",
    "df_5[\"mocodes\"].value_counts(ascending = False).head(10)"
   ]
  },
  {
   "cell_type": "code",
   "execution_count": 54,
   "metadata": {
    "scrolled": true
   },
   "outputs": [],
   "source": [
    "# Find the top 10 MO codes for each year\n",
    "# MO code is listed in the data under 'mocodes'\n",
    "# Custom function 'top_trends' groups by column and selects the top 'n' \n",
    "top_mo = gt.top_trends(df_5, column='year', variable='mocodes_1', n=10)"
   ]
  },
  {
   "cell_type": "code",
   "execution_count": 55,
   "metadata": {},
   "outputs": [],
   "source": [
    "# Add in the name of the MO codes to dataframe\n",
    "top_mo[\"mo_name\"] = convert.get_names(top_mo, \"mocodes_1\", mocode_dict)"
   ]
  },
  {
   "cell_type": "code",
   "execution_count": 79,
   "metadata": {},
   "outputs": [],
   "source": [
    "# create a rank column\n",
    "top_mo[\"rank\"] = top_mo.groupby('year')[\"count\"].rank(ascending=False)"
   ]
  },
  {
   "cell_type": "code",
   "execution_count": 78,
   "metadata": {},
   "outputs": [
    {
     "data": {
      "text/html": [
       "<div>\n",
       "<style scoped>\n",
       "    .dataframe tbody tr th:only-of-type {\n",
       "        vertical-align: middle;\n",
       "    }\n",
       "\n",
       "    .dataframe tbody tr th {\n",
       "        vertical-align: top;\n",
       "    }\n",
       "\n",
       "    .dataframe thead th {\n",
       "        text-align: right;\n",
       "    }\n",
       "</style>\n",
       "<table border=\"1\" class=\"dataframe\">\n",
       "  <thead>\n",
       "    <tr style=\"text-align: right;\">\n",
       "      <th></th>\n",
       "      <th>year</th>\n",
       "      <th>mocodes_1</th>\n",
       "      <th>count</th>\n",
       "      <th>mo_name</th>\n",
       "      <th>rank</th>\n",
       "    </tr>\n",
       "  </thead>\n",
       "  <tbody>\n",
       "    <tr>\n",
       "      <th>0</th>\n",
       "      <td>2015</td>\n",
       "      <td>344</td>\n",
       "      <td>24853</td>\n",
       "      <td>Removes vict property</td>\n",
       "      <td>1.0</td>\n",
       "    </tr>\n",
       "    <tr>\n",
       "      <th>1</th>\n",
       "      <td>2015</td>\n",
       "      <td>329</td>\n",
       "      <td>9307</td>\n",
       "      <td>Vandalized</td>\n",
       "      <td>2.0</td>\n",
       "    </tr>\n",
       "    <tr>\n",
       "      <th>2</th>\n",
       "      <td>2015</td>\n",
       "      <td>2000</td>\n",
       "      <td>5622</td>\n",
       "      <td>Domestic violence</td>\n",
       "      <td>3.0</td>\n",
       "    </tr>\n",
       "    <tr>\n",
       "      <th>3</th>\n",
       "      <td>2015</td>\n",
       "      <td>416</td>\n",
       "      <td>5152</td>\n",
       "      <td>Hit-Hit w/ weapon</td>\n",
       "      <td>4.0</td>\n",
       "    </tr>\n",
       "    <tr>\n",
       "      <th>4</th>\n",
       "      <td>2015</td>\n",
       "      <td>325</td>\n",
       "      <td>2820</td>\n",
       "      <td>Took merchandise</td>\n",
       "      <td>5.0</td>\n",
       "    </tr>\n",
       "  </tbody>\n",
       "</table>\n",
       "</div>"
      ],
      "text/plain": [
       "   year  mocodes_1  count                mo_name  rank\n",
       "0  2015  344        24853  Removes vict property  1.0 \n",
       "1  2015  329        9307   Vandalized             2.0 \n",
       "2  2015  2000       5622   Domestic violence      3.0 \n",
       "3  2015  416        5152   Hit-Hit w/ weapon      4.0 \n",
       "4  2015  325        2820   Took merchandise       5.0 "
      ]
     },
     "execution_count": 78,
     "metadata": {},
     "output_type": "execute_result"
    }
   ],
   "source": [
    "top_mo.head()"
   ]
  },
  {
   "cell_type": "code",
   "execution_count": 128,
   "metadata": {},
   "outputs": [
    {
     "data": {
      "text/plain": [
       "(10.45, 0.55)"
      ]
     },
     "execution_count": 128,
     "metadata": {},
     "output_type": "execute_result"
    },
    {
     "data": {
      "image/png": "[encoded data removed]",
      "text/plain": [
       "<Figure size 1080x504 with 1 Axes>"
      ]
     },
     "metadata": {
      "needs_background": "light"
     },
     "output_type": "display_data"
    }
   ],
   "source": [
    "plt.figure(figsize=(15, 7))\n",
    "\n",
    "ax = sns.lineplot(x=\"year\", y=\"rank\", hue=\"mo_name\", markers = True,\n",
    "                  data=top_mo)\n",
    "\n",
    "plt.ylim(reversed(plt.ylim()))"
   ]
  },
  {
   "cell_type": "code",
   "execution_count": null,
   "metadata": {},
   "outputs": [],
   "source": []
  }
 ],
 "metadata": {
  "kernelspec": {
   "display_name": "Python 3",
   "language": "python",
   "name": "python3"
  },
  "language_info": {
   "codemirror_mode": {
    "name": "ipython",
    "version": 3
   },
   "file_extension": ".py",
   "mimetype": "text/x-python",
   "name": "python",
   "nbconvert_exporter": "python",
   "pygments_lexer": "ipython3",
   "version": "3.7.4"
  }
 },
 "nbformat": 4,
 "nbformat_minor": 2
}
