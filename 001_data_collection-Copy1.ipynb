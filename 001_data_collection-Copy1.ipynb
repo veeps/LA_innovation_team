{
 "cells": [
  {
   "cell_type": "code",
   "execution_count": 30,
   "metadata": {},
   "outputs": [],
   "source": [
    "import requests\n",
    "import pandas as pd\n",
    "import datetime as dt\n",
    "import time\n",
    "import pickle\n",
    "pd.set_option('display.max_columns', None)"
   ]
  },
  {
   "cell_type": "code",
   "execution_count": 28,
   "metadata": {},
   "outputs": [],
   "source": [
    "# custom function to query api multiple times\n",
    "\n",
    "def query(n_samples):\n",
    "    base_url = 'https://data.lacity.org/resource/63jg-8b9z.json' # base url for api\n",
    "    list_posts = []\n",
    "    oldest_post = None\n",
    "    \n",
    "    while len(list_posts) < n_samples: # n_samples exceeds the api limit of 2000\n",
    "        \n",
    "        res = requests.get(base_url) # request reddit info\n",
    "            \n",
    "        posts = res.json() # create list from json\n",
    "        \n",
    "        if len(posts) == 0:\n",
    "            oldest_post = None # for the first time running this, before will be None\n",
    "            list_posts.extend(posts) # add batch of posts to list_posts     \n",
    "        else:\n",
    "            time.sleep(3) # wait 3 seconds before querying again\n",
    "            oldest_post = pd.to_datetime(res.json()[-1][\"date_occ\"].split(\"T\")[0]) # take the oldest time from the list and pull posts before that time\n",
    "            list_posts.extend(posts) # add batch of posts to list_posts\n",
    "            print(f'Collected {len(list_posts)} rows') # status check\n",
    "    return pd.DataFrame(list_posts) # return pandas dataframe"
   ]
  },
  {
   "cell_type": "code",
   "execution_count": 29,
   "metadata": {},
   "outputs": [
    {
     "name": "stdout",
     "output_type": "stream",
     "text": [
      "Collected 1000 rows\n",
      "Collected 2000 rows\n"
     ]
    }
   ],
   "source": [
    "df = query(2_000)"
   ]
  }
 ],
 "metadata": {
  "kernelspec": {
   "display_name": "Python 3",
   "language": "python",
   "name": "python3"
  },
  "language_info": {
   "codemirror_mode": {
    "name": "ipython",
    "version": 3
   },
   "file_extension": ".py",
   "mimetype": "text/x-python",
   "name": "python",
   "nbconvert_exporter": "python",
   "pygments_lexer": "ipython3",
   "version": "3.7.4"
  }
 },
 "nbformat": 4,
 "nbformat_minor": 2
}
